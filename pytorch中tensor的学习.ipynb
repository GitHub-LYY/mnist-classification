{
 "cells": [
  {
   "cell_type": "code",
   "execution_count": 1,
   "id": "interstate-blame",
   "metadata": {},
   "outputs": [],
   "source": [
    "import torch"
   ]
  },
  {
   "cell_type": "markdown",
   "id": "completed-dover",
   "metadata": {},
   "source": [
    "# torch Tensor"
   ]
  },
  {
   "cell_type": "markdown",
   "id": "planned-subscription",
   "metadata": {},
   "source": [
    "## torch.FloatTensor"
   ]
  },
  {
   "cell_type": "code",
   "execution_count": 5,
   "id": "passing-world",
   "metadata": {},
   "outputs": [
    {
     "name": "stdout",
     "output_type": "stream",
     "text": [
      "tensor([[9.2734e-14, 6.3058e-43, 1.4013e-45],\n",
      "        [0.0000e+00, 1.7748e+28, 7.9316e+34]])\n",
      "tensor([2., 3., 4., 5.])\n"
     ]
    }
   ],
   "source": [
    "a = torch.FloatTensor(2,3)\n",
    "b = torch.FloatTensor([2,3,4,5])\n",
    "\n",
    "print(a)\n",
    "print(b)"
   ]
  },
  {
   "cell_type": "markdown",
   "id": "numeric-offense",
   "metadata": {},
   "source": [
    "## torch.IntTensor"
   ]
  },
  {
   "cell_type": "code",
   "execution_count": 6,
   "id": "steady-bacon",
   "metadata": {},
   "outputs": [
    {
     "name": "stdout",
     "output_type": "stream",
     "text": [
      "tensor([[ 959459894,  945906488,  808661089],\n",
      "        [ 929313072, 1664443186,  942880818]], dtype=torch.int32)\n",
      "tensor([2, 3, 4, 5], dtype=torch.int32)\n"
     ]
    }
   ],
   "source": [
    "a = torch.IntTensor(2,3)\n",
    "b = torch.IntTensor([2,3,4,5])\n",
    "\n",
    "print(a)\n",
    "print(b)"
   ]
  },
  {
   "cell_type": "markdown",
   "id": "quick-representative",
   "metadata": {},
   "source": [
    "## torch.rand"
   ]
  },
  {
   "cell_type": "code",
   "execution_count": 7,
   "id": "specialized-sculpture",
   "metadata": {},
   "outputs": [
    {
     "name": "stdout",
     "output_type": "stream",
     "text": [
      "tensor([[0.3128, 0.1639, 0.8257],\n",
      "        [0.5355, 0.5358, 0.6266]])\n"
     ]
    }
   ],
   "source": [
    "a = torch.rand(2,3)\n",
    "\n",
    "print(a)"
   ]
  },
  {
   "cell_type": "markdown",
   "id": "external-image",
   "metadata": {},
   "source": [
    "# torch.randn"
   ]
  },
  {
   "cell_type": "code",
   "execution_count": 8,
   "id": "abandoned-drain",
   "metadata": {},
   "outputs": [
    {
     "name": "stdout",
     "output_type": "stream",
     "text": [
      "tensor([[ 0.0123, -1.3384,  1.5614],\n",
      "        [ 0.2189,  1.4272,  3.0544]])\n"
     ]
    }
   ],
   "source": [
    "a = torch.randn(2,3)\n",
    "\n",
    "print(a)"
   ]
  },
  {
   "cell_type": "markdown",
   "id": "complimentary-bookmark",
   "metadata": {},
   "source": [
    "## torch.range"
   ]
  },
  {
   "cell_type": "code",
   "execution_count": 9,
   "id": "monetary-blackjack",
   "metadata": {},
   "outputs": [
    {
     "name": "stdout",
     "output_type": "stream",
     "text": [
      "tensor([ 1.,  2.,  3.,  4.,  5.,  6.,  7.,  8.,  9., 10., 11., 12., 13., 14.,\n",
      "        15., 16., 17., 18., 19., 20.])\n"
     ]
    },
    {
     "name": "stderr",
     "output_type": "stream",
     "text": [
      "D:\\Anaconda3\\envs\\pytorch_env\\lib\\site-packages\\ipykernel_launcher.py:1: UserWarning: torch.range is deprecated and will be removed in a future release because its behavior is inconsistent with Python's range builtin. Instead, use torch.arange, which produces values in [start, end).\n",
      "  \"\"\"Entry point for launching an IPython kernel.\n"
     ]
    }
   ],
   "source": [
    "a = torch.range(1,20,1)\n",
    "\n",
    "print(a)"
   ]
  },
  {
   "cell_type": "markdown",
   "id": "piano-fruit",
   "metadata": {},
   "source": [
    "## torch.zeros"
   ]
  },
  {
   "cell_type": "code",
   "execution_count": 10,
   "id": "phantom-think",
   "metadata": {},
   "outputs": [
    {
     "name": "stdout",
     "output_type": "stream",
     "text": [
      "tensor([[0., 0., 0.],\n",
      "        [0., 0., 0.]])\n"
     ]
    }
   ],
   "source": [
    "a = torch.zeros(2,3)\n",
    "\n",
    "print(a)"
   ]
  },
  {
   "cell_type": "markdown",
   "id": "prospective-brother",
   "metadata": {},
   "source": [
    "# Tensor的运算"
   ]
  },
  {
   "cell_type": "markdown",
   "id": "indonesian-activity",
   "metadata": {},
   "source": [
    "## torch.abs"
   ]
  },
  {
   "cell_type": "code",
   "execution_count": 12,
   "id": "advised-syndicate",
   "metadata": {},
   "outputs": [
    {
     "name": "stdout",
     "output_type": "stream",
     "text": [
      "tensor([[-0.9745,  0.9896,  1.0124],\n",
      "        [ 1.3484, -0.6900,  0.0553]])\n",
      "tensor([[0.9745, 0.9896, 1.0124],\n",
      "        [1.3484, 0.6900, 0.0553]])\n"
     ]
    }
   ],
   "source": [
    "a = torch.randn(2,3)\n",
    "print(a)\n",
    "\n",
    "b = torch.abs(a)\n",
    "print(b)"
   ]
  },
  {
   "cell_type": "markdown",
   "id": "anonymous-liver",
   "metadata": {},
   "source": [
    "## torch.add"
   ]
  },
  {
   "cell_type": "code",
   "execution_count": 16,
   "id": "scientific-developer",
   "metadata": {},
   "outputs": [
    {
     "name": "stdout",
     "output_type": "stream",
     "text": [
      "tensor([[-0.9284, -0.6011,  0.5022],\n",
      "        [ 0.5029,  1.2899,  0.2576]])\n",
      "tensor([[-0.3948,  0.6784, -0.0986],\n",
      "        [ 1.8862,  0.2935, -1.1604]])\n",
      "tensor([[-1.3232,  0.0773,  0.4036],\n",
      "        [ 2.3891,  1.5834, -0.9028]])\n",
      "tensor([[-1.8104, -1.0937, -1.0617],\n",
      "        [ 1.6781,  0.0096,  0.8089]])\n",
      "tensor([[ 8.1896,  8.9063,  8.9383],\n",
      "        [11.6781, 10.0096, 10.8089]])\n"
     ]
    }
   ],
   "source": [
    "a = torch.randn(2,3)\n",
    "print(a)\n",
    "\n",
    "b = torch.randn(2,3)\n",
    "print(b)\n",
    "\n",
    "c = torch.add(a,b)\n",
    "print(c)\n",
    "\n",
    "d = torch.randn(2,3)\n",
    "print(d)\n",
    "\n",
    "e = torch.add(d,10)\n",
    "print(e)"
   ]
  },
  {
   "cell_type": "markdown",
   "id": "white-location",
   "metadata": {},
   "source": [
    "## torch.clamp"
   ]
  },
  {
   "cell_type": "code",
   "execution_count": 18,
   "id": "perceived-vocabulary",
   "metadata": {},
   "outputs": [
    {
     "name": "stdout",
     "output_type": "stream",
     "text": [
      "tensor([[ 0.7582,  0.6183, -0.2542],\n",
      "        [ 0.5340, -0.0977,  0.6001]])\n",
      "tensor([[ 0.1000,  0.1000, -0.1000],\n",
      "        [ 0.1000, -0.0977,  0.1000]])\n"
     ]
    }
   ],
   "source": [
    "a = torch.randn(2,3)\n",
    "print(a)\n",
    "\n",
    "b = torch.clamp(a,-0.1,0.1)\n",
    "print(b)"
   ]
  },
  {
   "cell_type": "markdown",
   "id": "speaking-courtesy",
   "metadata": {},
   "source": [
    "## torch.div"
   ]
  },
  {
   "cell_type": "code",
   "execution_count": 19,
   "id": "indoor-bracket",
   "metadata": {},
   "outputs": [
    {
     "name": "stdout",
     "output_type": "stream",
     "text": [
      "tensor([[-0.9974, -1.3681,  1.2700],\n",
      "        [-0.0625,  0.6561,  0.4479]])\n",
      "tensor([[-0.6062,  0.1325, -0.5771],\n",
      "        [ 1.2832,  0.3913,  0.0404]])\n",
      "tensor([[  1.6452, -10.3243,  -2.2008],\n",
      "        [ -0.0487,   1.6768,  11.0870]])\n",
      "tensor([[-0.1177, -0.9731,  1.9104],\n",
      "        [ 1.5920, -1.0234, -0.2268]])\n",
      "tensor([[-0.0118, -0.0973,  0.1910],\n",
      "        [ 0.1592, -0.1023, -0.0227]])\n"
     ]
    }
   ],
   "source": [
    "a = torch.randn(2,3)\n",
    "print(a)\n",
    "\n",
    "b = torch.randn(2,3)\n",
    "print(b)\n",
    "\n",
    "c = torch.div(a,b)\n",
    "print(c)\n",
    "\n",
    "d = torch.randn(2,3)\n",
    "print(d)\n",
    "\n",
    "e = torch.div(d,10)\n",
    "print(e)"
   ]
  },
  {
   "cell_type": "markdown",
   "id": "demonstrated-dollar",
   "metadata": {},
   "source": [
    "## torch.mul"
   ]
  },
  {
   "cell_type": "code",
   "execution_count": 20,
   "id": "becoming-trinidad",
   "metadata": {},
   "outputs": [
    {
     "name": "stdout",
     "output_type": "stream",
     "text": [
      "tensor([[ 0.0389, -0.3661, -0.2866],\n",
      "        [-1.4218, -1.5303,  1.3115]])\n",
      "tensor([[ 0.1865, -1.0984, -0.3576],\n",
      "        [ 0.2900,  0.5965, -1.1360]])\n",
      "tensor([[ 0.0073,  0.4021,  0.1025],\n",
      "        [-0.4123, -0.9129, -1.4898]])\n",
      "tensor([[-0.2174, -1.1605,  0.7236],\n",
      "        [ 1.3425,  1.3135,  1.5572]])\n",
      "tensor([[ -2.1740, -11.6047,   7.2358],\n",
      "        [ 13.4252,  13.1346,  15.5722]])\n"
     ]
    }
   ],
   "source": [
    "a = torch.randn(2,3)\n",
    "print(a)\n",
    "\n",
    "b = torch.randn(2,3)\n",
    "print(b)\n",
    "\n",
    "c = torch.mul(a,b)\n",
    "print(c)\n",
    "\n",
    "d = torch.randn(2,3)\n",
    "print(d)\n",
    "\n",
    "e = torch.mul(d,10)\n",
    "print(e)"
   ]
  },
  {
   "cell_type": "markdown",
   "id": "historical-basic",
   "metadata": {},
   "source": [
    "## torch.pow"
   ]
  },
  {
   "cell_type": "code",
   "execution_count": 22,
   "id": "human-turtle",
   "metadata": {},
   "outputs": [
    {
     "name": "stdout",
     "output_type": "stream",
     "text": [
      "tensor([[-1.7624,  0.0689,  2.4755],\n",
      "        [-1.1925,  0.5063,  1.5483]])\n",
      "tensor([[3.1061e+00, 4.7493e-03, 6.1280e+00],\n",
      "        [1.4220e+00, 2.5635e-01, 2.3973e+00]])\n"
     ]
    }
   ],
   "source": [
    "a = torch.randn(2,3)\n",
    "print(a)\n",
    "\n",
    "b = torch.pow(a,2)\n",
    "print(b)"
   ]
  },
  {
   "cell_type": "markdown",
   "id": "nervous-struggle",
   "metadata": {},
   "source": [
    "## torch.mm"
   ]
  },
  {
   "cell_type": "code",
   "execution_count": 23,
   "id": "periodic-resort",
   "metadata": {},
   "outputs": [
    {
     "name": "stdout",
     "output_type": "stream",
     "text": [
      "tensor([[ 1.0444,  1.0644, -2.0657],\n",
      "        [ 1.6060,  0.7419,  0.3797]])\n",
      "tensor([[-1.1342, -0.9102],\n",
      "        [-1.0353,  0.2347],\n",
      "        [ 1.1194,  1.2468]])\n",
      "tensor([[-4.5989, -3.2763],\n",
      "        [-2.1647, -0.8143]])\n"
     ]
    }
   ],
   "source": [
    "a = torch.randn(2,3)\n",
    "print(a)\n",
    "\n",
    "b = torch.randn(3,2)\n",
    "print(b)\n",
    "\n",
    "c = torch.mm(a,b)\n",
    "print(c)"
   ]
  },
  {
   "cell_type": "markdown",
   "id": "signed-brush",
   "metadata": {},
   "source": [
    "## torch.mv"
   ]
  },
  {
   "cell_type": "code",
   "execution_count": 25,
   "id": "patient-memphis",
   "metadata": {},
   "outputs": [
    {
     "name": "stdout",
     "output_type": "stream",
     "text": [
      "tensor([[-0.9950, -1.2932, -0.5685],\n",
      "        [ 0.4991,  2.4139, -0.0962]])\n",
      "tensor([1.1706, 0.2817, 0.4686])\n",
      "tensor([-1.7955,  1.2192])\n"
     ]
    }
   ],
   "source": [
    "a = torch.randn(2,3)\n",
    "print(a)\n",
    "\n",
    "b = torch.randn(3)\n",
    "print(b)\n",
    "\n",
    "c = torch.mv(a,b)\n",
    "print(c)"
   ]
  },
  {
   "cell_type": "code",
   "execution_count": null,
   "id": "neutral-earthquake",
   "metadata": {},
   "outputs": [],
   "source": []
  }
 ],
 "metadata": {
  "kernelspec": {
   "display_name": "Python [conda env:pytorch_env] *",
   "language": "python",
   "name": "conda-env-pytorch_env-py"
  },
  "language_info": {
   "codemirror_mode": {
    "name": "ipython",
    "version": 3
   },
   "file_extension": ".py",
   "mimetype": "text/x-python",
   "name": "python",
   "nbconvert_exporter": "python",
   "pygments_lexer": "ipython3",
   "version": "3.6.12"
  }
 },
 "nbformat": 4,
 "nbformat_minor": 5
}
